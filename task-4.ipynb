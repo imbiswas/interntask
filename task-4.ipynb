{
 "cells": [
  {
   "cell_type": "markdown",
   "metadata": {},
   "source": [
    "Task 4:\n",
    "Your job is to sum up 50 numbers and at the end report the sum and the count of numbers that\n",
    "were positive numbers (>0).\n",
    "Describe how you would solve the problem or write in a pseudo-code."
   ]
  },
  {
   "cell_type": "code",
   "execution_count": 1,
   "metadata": {},
   "outputs": [],
   "source": [
    "from random import randint"
   ]
  },
  {
   "cell_type": "markdown",
   "metadata": {},
   "source": [
    "generate 50 random numbers from -100 to 100."
   ]
  },
  {
   "cell_type": "code",
   "execution_count": 2,
   "metadata": {},
   "outputs": [
    {
     "name": "stdout",
     "output_type": "stream",
     "text": [
      "list of 50 number generated are: [54, -71, 98, 36, -74, -23, -42, 50, 81, 42, 21, 99, 65, -27, -13, 94, -10, 1, -86, 5, 41, 96, -82, 100, -7, 38, 1, -12, -21, 18, 78, 23, -25, 3, 0, 8, -45, 33, 61, 97, 70, -27, 57, 62, -98, -81, 44, 32, -58, 22]\n"
     ]
    }
   ],
   "source": [
    "alist=[]#list to store all 50 values\n",
    "\n",
    "for i in range(50):\n",
    "    a=randint(-100,100)\n",
    "    alist.append(a)\n",
    "print(\"list of 50 number generated are: \"+str(alist))\n",
    "#print(len(alist))    "
   ]
  },
  {
   "cell_type": "markdown",
   "metadata": {},
   "source": [
    "Sum of all 50 numbers"
   ]
  },
  {
   "cell_type": "code",
   "execution_count": 3,
   "metadata": {},
   "outputs": [
    {
     "name": "stdout",
     "output_type": "stream",
     "text": [
      "sum of all 50 number is 728\n"
     ]
    }
   ],
   "source": [
    "prev=0\n",
    "for num in alist:\n",
    "    prev=prev+num\n",
    "    #print(prev)\n",
    "print(\"sum of all 50 number is \"+str(prev))"
   ]
  },
  {
   "cell_type": "markdown",
   "metadata": {},
   "source": [
    "count of all positive number"
   ]
  },
  {
   "cell_type": "code",
   "execution_count": 4,
   "metadata": {},
   "outputs": [
    {
     "name": "stdout",
     "output_type": "stream",
     "text": [
      "the total positive numbers are: 19\n"
     ]
    }
   ],
   "source": [
    "poslist=[]#to store positive value\n",
    "for num in alist:\n",
    "    if num>0:\n",
    "        poslist.append(num)\n",
    "lenght=len(poslist)\n",
    "print(\"the total positive numbers are: \"+str(lenght))"
   ]
  },
  {
   "cell_type": "code",
   "execution_count": null,
   "metadata": {},
   "outputs": [],
   "source": []
  }
 ],
 "metadata": {
  "kernelspec": {
   "display_name": "Python 3",
   "language": "python",
   "name": "python3"
  },
  "language_info": {
   "codemirror_mode": {
    "name": "ipython",
    "version": 3
   },
   "file_extension": ".py",
   "mimetype": "text/x-python",
   "name": "python",
   "nbconvert_exporter": "python",
   "pygments_lexer": "ipython3",
   "version": "3.6.3"
  }
 },
 "nbformat": 4,
 "nbformat_minor": 2
}
