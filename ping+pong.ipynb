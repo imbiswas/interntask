{
 "cells": [
  {
   "cell_type": "markdown",
   "metadata": {},
   "source": [
    "Task 1: If you have 4987 participants in a knock out ping pong championship . \n",
    " \n",
    "How many matches would it take to determine the winner. Number of games played by winner by the time winner is determined. "
   ]
  },
  {
   "cell_type": "code",
   "execution_count": 1,
   "metadata": {
    "collapsed": false
   },
   "outputs": [],
   "source": [
    "import math\n",
    "import time"
   ]
  },
  {
   "cell_type": "markdown",
   "metadata": {},
   "source": [
    "Rounding upto ceiling  point i.e. 1.6->2"
   ]
  },
  {
   "cell_type": "code",
   "execution_count": 2,
   "metadata": {
    "collapsed": false
   },
   "outputs": [
    {
     "name": "stdout",
     "output_type": "stream",
     "text": [
      "The total no of game played in this condition is 4991\n"
     ]
    }
   ],
   "source": [
    "game=0\n",
    "par=4987\n",
    "count=0\n",
    "while(par is not 1):\n",
    "    par=math.ceil(par/2)#since one participan only win\n",
    "    game=game+par#total game is equal to sum of no. of prev game played before and played now\n",
    "   # print(par)\n",
    "    if par == 1:\n",
    "        break\n",
    "    else:\n",
    "        #print (par)\n",
    "        pass\n",
    "    #time.sleep(1)\n",
    "    \n",
    "print(\"The total no of game played in this condition is \"+str(game))\n",
    "    \n"
   ]
  },
  {
   "cell_type": "markdown",
   "metadata": {},
   "source": [
    "Rounding upto floor  point i.e. 1.6->1"
   ]
  },
  {
   "cell_type": "code",
   "execution_count": 3,
   "metadata": {
    "collapsed": false
   },
   "outputs": [
    {
     "name": "stdout",
     "output_type": "stream",
     "text": [
      "The total no of game played in this condition is 4978\n"
     ]
    }
   ],
   "source": [
    "game=0\n",
    "par=4987\n",
    "count=0\n",
    "while(par is not 1):\n",
    "    par=math.floor(par/2)\n",
    "    game=game+par\n",
    "    #print(par)\n",
    "    if par == 1:\n",
    "        break\n",
    "    else:\n",
    "        #print (par)\n",
    "        pass\n",
    "    #time.sleep(1)\n",
    "    \n",
    "print(\"The total no of game played in this condition is \"+str(game))\n",
    "    "
   ]
  },
  {
   "cell_type": "code",
   "execution_count": null,
   "metadata": {
    "collapsed": true
   },
   "outputs": [],
   "source": []
  }
 ],
 "metadata": {
  "kernelspec": {
   "display_name": "Python 3",
   "language": "python",
   "name": "python3"
  },
  "language_info": {
   "codemirror_mode": {
    "name": "ipython",
    "version": 3
   },
   "file_extension": ".py",
   "mimetype": "text/x-python",
   "name": "python",
   "nbconvert_exporter": "python",
   "pygments_lexer": "ipython3",
   "version": "3.6.0"
  }
 },
 "nbformat": 4,
 "nbformat_minor": 2
}
