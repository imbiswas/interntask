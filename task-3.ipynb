{
 "cells": [
  {
   "cell_type": "markdown",
   "metadata": {},
   "source": [
    "Write a letter sequence, that is next on the series.\n",
    "Try to determine the general form of the series:\n",
    "a) bce , bbcde , bbbcdde , __________________________\n",
    "The general form:\n",
    "b) bcace , bcacacace , bcacacacacace , __________________________\n",
    "The general form:\n",
    "c) __________________ , abcccdd , abbccccdd , abbbcccccdd , ...\n",
    "The general form:"
   ]
  },
  {
   "cell_type": "markdown",
   "metadata": {},
   "source": [
    "a)= bbbbcddde\n",
    "b)= bcacacacacacacace\n",
    "c)= accdd"
   ]
  }
 ],
 "metadata": {
  "kernelspec": {
   "display_name": "Python 3",
   "language": "python",
   "name": "python3"
  },
  "language_info": {
   "codemirror_mode": {
    "name": "ipython",
    "version": 3
   },
   "file_extension": ".py",
   "mimetype": "text/x-python",
   "name": "python",
   "nbconvert_exporter": "python",
   "pygments_lexer": "ipython3",
   "version": "3.6.3"
  }
 },
 "nbformat": 4,
 "nbformat_minor": 2
}
