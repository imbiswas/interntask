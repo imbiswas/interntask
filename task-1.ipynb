{
 "cells": [
  {
   "cell_type": "markdown",
   "metadata": {},
   "source": [
    "Task 1:\n",
    "The company has information of their employers in three different lists. You have acquired all\n",
    "three lists, which all have little bit different information depending on the purpose of the list. The\n",
    "lists have following information of the employees:\n",
    "List 1: the number, the name, the occupation and the department\n",
    "List 1 is ordered by the number of employee to ascending order\n",
    "List 2: the name, the number, the address, the phone number and the social security number\n",
    "List 2 is organized to alphabetic order by the name\n",
    "List 3: the number, the social security number, salary and some secret information\n",
    "List 3 is ordered by the number to ascending order\n",
    "Your job is to make a report of those employees whose salary is greater than NPR 25000.\n",
    "The report has to display the name, the address, the department and the salary of the\n",
    "employees.\n",
    "Describe how you would solve the problem."
   ]
  },
  {
   "cell_type": "code",
   "execution_count": 1,
   "metadata": {},
   "outputs": [
    {
     "ename": "ModuleNotFoundError",
     "evalue": "No module named 'mysql'",
     "output_type": "error",
     "traceback": [
      "\u001b[0;31m---------------------------------------------------------------------------\u001b[0m",
      "\u001b[0;31mModuleNotFoundError\u001b[0m                       Traceback (most recent call last)",
      "\u001b[0;32m<ipython-input-1-a9827bae8d53>\u001b[0m in \u001b[0;36m<module>\u001b[0;34m()\u001b[0m\n\u001b[0;32m----> 1\u001b[0;31m \u001b[0;32mimport\u001b[0m \u001b[0mmysql\u001b[0m\u001b[0;34m.\u001b[0m\u001b[0mconnector\u001b[0m\u001b[0;34m\u001b[0m\u001b[0m\n\u001b[0m\u001b[1;32m      2\u001b[0m \u001b[0;32mfrom\u001b[0m \u001b[0mmysql\u001b[0m\u001b[0;34m.\u001b[0m\u001b[0mconnector\u001b[0m \u001b[0;32mimport\u001b[0m \u001b[0merrors\u001b[0m\u001b[0;34m\u001b[0m\u001b[0m\n",
      "\u001b[0;31mModuleNotFoundError\u001b[0m: No module named 'mysql'"
     ]
    }
   ],
   "source": [
    "import mysql.connector\n",
    "from mysql.connector import errors"
   ]
  },
  {
   "cell_type": "markdown",
   "metadata": {},
   "source": [
    "May show error since we dont have actual list in data base"
   ]
  },
  {
   "cell_type": "code",
   "execution_count": 2,
   "metadata": {
    "scrolled": true
   },
   "outputs": [
    {
     "ename": "SyntaxError",
     "evalue": "invalid syntax (<ipython-input-2-6acf28a9e037>, line 13)",
     "output_type": "error",
     "traceback": [
      "\u001b[0;36m  File \u001b[0;32m\"<ipython-input-2-6acf28a9e037>\"\u001b[0;36m, line \u001b[0;32m13\u001b[0m\n\u001b[0;31m    for (name,address,department,salary = \"{}, {} , {},{} \".format(name,address,department,salary)\u001b[0m\n\u001b[0m                                        ^\u001b[0m\n\u001b[0;31mSyntaxError\u001b[0m\u001b[0;31m:\u001b[0m invalid syntax\n"
     ]
    }
   ],
   "source": [
    "listfile=[]#to list all the employee from the data base\n",
    "try:\n",
    "    cnx = mysql.connector.connect(user=\"root\", password='1234',\n",
    "                                   host=\"localhost\", port=3306,\n",
    "                                   database='stafflist')\n",
    "\n",
    "    if cnx.is_connected():\n",
    "        #print('Connected to MySQL database')\n",
    "        pass\n",
    "    cursor = cnx.cursor()\n",
    "    query=(\"SELECT name,address,department,salary From List1 as l1 innerjoin List2 as l2 on l1.number=l2.number innerjoin List3 as l3 on l1.number=l3.number where salary>25000\")\n",
    "    cursor.execute(query)\n",
    "    for (name,address,department,salary = \"{}, {} , {},{} \".format(name,address,department,salary)\n",
    "         #print(individualitem)\n",
    "        listfile.append(individualitem)\n",
    "\n",
    "\n",
    "    cursor.close()\n",
    "\n",
    "\n",
    "\n",
    "except ConnectionError as e:\n",
    "    print(e)\n",
    "\n",
    "finally:\n",
    "    cnx.close()\n",
    "\n",
    "for names in listfile:\n",
    "         print(name)\n"
   ]
  }
 ],
 "metadata": {
  "kernelspec": {
   "display_name": "Python 3",
   "language": "python",
   "name": "python3"
  },
  "language_info": {
   "codemirror_mode": {
    "name": "ipython",
    "version": 3
   },
   "file_extension": ".py",
   "mimetype": "text/x-python",
   "name": "python",
   "nbconvert_exporter": "python",
   "pygments_lexer": "ipython3",
   "version": "3.6.3"
  }
 },
 "nbformat": 4,
 "nbformat_minor": 2
}
